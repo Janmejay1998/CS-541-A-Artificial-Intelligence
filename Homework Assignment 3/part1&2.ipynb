{
 "cells": [
  {
   "cell_type": "code",
   "execution_count": 8,
   "metadata": {},
   "outputs": [],
   "source": [
    "import numpy as np\n",
    "from collections import Counter\n",
    "import codecs"
   ]
  },
  {
   "cell_type": "code",
   "execution_count": 9,
   "metadata": {},
   "outputs": [],
   "source": [
    "class language_model:\n",
    "\n",
    "    def __init__(self, ngram=1):\n",
    "        self.ngram = ngram\n",
    "\n",
    "    def unigram(self, text):\n",
    "        \n",
    "        data = {}\n",
    "        words = [word for sentence in text for word in sentence.split()]\n",
    "        word_length = len(set(words))\n",
    "        self.c = Counter(words)\n",
    "\n",
    "        for word in words:\n",
    "            data[word] = (self.c[word] / word_length)\n",
    "        return data, word_length\n",
    "\n",
    "    def text_clean(self, text):\n",
    "        \n",
    "        text = text.strip('\\n').lower()\n",
    "        text = text.replace('\\n', ' ')\n",
    "\n",
    "        text = text.translate ({ord(c): \".\" for c in \"!:?\"})\n",
    "        text = text.translate ({ord(c): \"\" for c in \"\\\"\\''\"\"@#$%^&*()[]{};,/<>\\|`~=_+\"})\n",
    "        text = text.translate ({ord(c): \" \" for c in \"-\"})\n",
    "\n",
    "        sentences = ['<s> ' +\" \".join(sentence.split())+ ' </s>' for sentence in text.split('.') if sentence != \"\"]\n",
    "        return sentences\n",
    "\n",
    "    def ngram_generation(self, sentence, n):\n",
    "        \n",
    "        tokens = [token for token in sentence.split(\" \") if token != \"\"]\n",
    "        ngrams = zip(*[tokens[i:] for i in range(n)])\n",
    "        ngrams = [\" \".join(ngram) for ngram in ngrams]\n",
    "        ngrams = [tuple(sent.split()) for sent in ngrams]\n",
    "        return ngrams\n",
    "\n",
    "    \n",
    "    def perplexity(self, data):   \n",
    "        exp = [np.log2(v) for k,v in data.items()]\n",
    "        exp = sum(exp) / len(exp)\n",
    "        return np.power(2, -exp)\n",
    "\n",
    "\n",
    "    def train(self, file_name) :\n",
    "        with codecs.open(file_name, 'r') as f:\n",
    "            text = f.read()\n",
    "        clean_text = self.text_clean(text)\n",
    "\n",
    "        if self.ngram == 1:\n",
    "            self.uni_data, self.uni_count = self.unigram(clean_text)\n",
    "            \n",
    "            new_dict = {}\n",
    "            for k,v in self.uni_data.items():\n",
    "                tup = []\n",
    "                tup = [tupl for tupl in k[0]]\n",
    "                tup.append(k[0])\n",
    "                new_dict[tuple(tup)] = v\n",
    "            self.uni_data = new_dict\n",
    "            self.uni_data_count = len(self.uni_data)\n",
    "        pass\n",
    "    \n",
    "\n",
    "    def test(self, file_name) :\n",
    "        with open(file_name, 'r') as f:\n",
    "            test_text = f.read()\n",
    "        clean_test_text = self.text_clean(test_text)\n",
    "        test_dict = {}\n",
    "        self.zero_count = 0\n",
    "        self.sparsity = 0\n",
    "\n",
    "        if self.ngram == 1:\n",
    "            for sentence in clean_test_text:\n",
    "                for word in sentence.split():\n",
    "                    if word not in self.uni_data.keys():\n",
    "                        test_dict[word] = 1/self.uni_count\n",
    "                        self.zero_count += 1\n",
    "                    else:\n",
    "                        test_dict[word] = self.uni_data[word]\n",
    "            if self.zero_count:\n",
    "                self.sparsity = self.zero_count/len(test_dict)\n",
    "        return self.perplexity(test_dict)\n"
   ]
  },
  {
   "cell_type": "code",
   "execution_count": null,
   "metadata": {},
   "outputs": [],
   "source": [
    "lm1= language_model(1)\n",
    "lm1.train(\"ted.txt\")\n",
    "lm1.test(\"test.ted.txt\")"
   ]
  },
  {
   "cell_type": "code",
   "execution_count": null,
   "metadata": {},
   "outputs": [],
   "source": [
    "lm1.train(\"ted.txt\")\n",
    "lm1.test(\"test.news.txt\")"
   ]
  },
  {
   "cell_type": "code",
   "execution_count": null,
   "metadata": {},
   "outputs": [],
   "source": [
    "lm1.train(\"ted.txt\")\n",
    "lm1.test(\"test.reddit.txt\")"
   ]
  }
 ],
 "metadata": {
  "interpreter": {
   "hash": "a0624dec9b47ad8fef0bd67c19b115b4dbf69c45ac177bab83f84df399df6d09"
  },
  "kernelspec": {
   "display_name": "Python 3.9.0 64-bit",
   "language": "python",
   "name": "python3"
  },
  "language_info": {
   "codemirror_mode": {
    "name": "ipython",
    "version": 3
   },
   "file_extension": ".py",
   "mimetype": "text/x-python",
   "name": "python",
   "nbconvert_exporter": "python",
   "pygments_lexer": "ipython3",
   "version": "3.9.0"
  },
  "orig_nbformat": 4
 },
 "nbformat": 4,
 "nbformat_minor": 2
}
