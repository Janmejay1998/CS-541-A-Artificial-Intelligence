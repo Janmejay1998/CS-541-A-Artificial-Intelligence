{
 "cells": [
  {
   "cell_type": "code",
   "execution_count": 2,
   "metadata": {},
   "outputs": [],
   "source": [
    "import pandas as pd"
   ]
  },
  {
   "cell_type": "code",
   "execution_count": 3,
   "metadata": {},
   "outputs": [
    {
     "data": {
      "text/html": [
       "<div>\n",
       "<style scoped>\n",
       "    .dataframe tbody tr th:only-of-type {\n",
       "        vertical-align: middle;\n",
       "    }\n",
       "\n",
       "    .dataframe tbody tr th {\n",
       "        vertical-align: top;\n",
       "    }\n",
       "\n",
       "    .dataframe thead th {\n",
       "        text-align: right;\n",
       "    }\n",
       "</style>\n",
       "<table border=\"1\" class=\"dataframe\">\n",
       "  <thead>\n",
       "    <tr style=\"text-align: right;\">\n",
       "      <th></th>\n",
       "      <th>N-GRAMS</th>\n",
       "      <th>test_ted</th>\n",
       "      <th>test_reddit</th>\n",
       "      <th>test_news</th>\n",
       "    </tr>\n",
       "  </thead>\n",
       "  <tbody>\n",
       "    <tr>\n",
       "      <th>0</th>\n",
       "      <td>n=1</td>\n",
       "      <td>313.90</td>\n",
       "      <td>549.54</td>\n",
       "      <td>707.12</td>\n",
       "    </tr>\n",
       "    <tr>\n",
       "      <th>1</th>\n",
       "      <td>n=2</td>\n",
       "      <td>90.65</td>\n",
       "      <td>221.05</td>\n",
       "      <td>279.18</td>\n",
       "    </tr>\n",
       "    <tr>\n",
       "      <th>2</th>\n",
       "      <td>n=3</td>\n",
       "      <td>82.12</td>\n",
       "      <td>277.55</td>\n",
       "      <td>358.45</td>\n",
       "    </tr>\n",
       "    <tr>\n",
       "      <th>3</th>\n",
       "      <td>n=4</td>\n",
       "      <td>121.44</td>\n",
       "      <td>491.95</td>\n",
       "      <td>665.89</td>\n",
       "    </tr>\n",
       "    <tr>\n",
       "      <th>4</th>\n",
       "      <td>n=5</td>\n",
       "      <td>208.19</td>\n",
       "      <td>913.89</td>\n",
       "      <td>1318.88</td>\n",
       "    </tr>\n",
       "    <tr>\n",
       "      <th>5</th>\n",
       "      <td>n=6</td>\n",
       "      <td>358.33</td>\n",
       "      <td>1629.46</td>\n",
       "      <td>2533.91</td>\n",
       "    </tr>\n",
       "    <tr>\n",
       "      <th>6</th>\n",
       "      <td>n=7</td>\n",
       "      <td>594.25</td>\n",
       "      <td>2733.56</td>\n",
       "      <td>4652.04</td>\n",
       "    </tr>\n",
       "  </tbody>\n",
       "</table>\n",
       "</div>"
      ],
      "text/plain": [
       "  N-GRAMS  test_ted  test_reddit  test_news\n",
       "0     n=1    313.90       549.54     707.12\n",
       "1     n=2     90.65       221.05     279.18\n",
       "2     n=3     82.12       277.55     358.45\n",
       "3     n=4    121.44       491.95     665.89\n",
       "4     n=5    208.19       913.89    1318.88\n",
       "5     n=6    358.33      1629.46    2533.91\n",
       "6     n=7    594.25      2733.56    4652.04"
      ]
     },
     "execution_count": 3,
     "metadata": {},
     "output_type": "execute_result"
    }
   ],
   "source": [
    "n=[\"n=1\",\"n=2\",\"n=3\",\"n=4\",\"n=5\",\"n=6\",\"n=7\"]\n",
    "test_ted= [313.90,90.65,82.12,121.44,208.19,358.33,594.25]\n",
    "test_red= [549.54,221.05,277.55,491.95,913.89,1629.46,2733.56]\n",
    "test_news=[707.12,279.18,358.45,665.89,1318.88,2533.91,4652.04]\n",
    "\n",
    "df= pd.DataFrame(test_ted)\n",
    "df[\"N-GRAMS\"]= n\n",
    "df[\"test_ted\"]= test_ted\n",
    "df[\"test_reddit\"]= test_red\n",
    "df[\"test_news\"]= test_news\n",
    "df.drop([0],axis=1)"
   ]
  },
  {
   "cell_type": "code",
   "execution_count": 4,
   "metadata": {},
   "outputs": [
    {
     "data": {
      "text/plain": [
       "<AxesSubplot:xlabel='N-GRAMS'>"
      ]
     },
     "execution_count": 4,
     "metadata": {},
     "output_type": "execute_result"
    },
    {
     "data": {
      "image/png": "[encoded data removed]",
      "text/plain": [
       "<Figure size 432x288 with 1 Axes>"
      ]
     },
     "metadata": {
      "needs_background": "light"
     },
     "output_type": "display_data"
    }
   ],
   "source": [
    "df.plot(x=\"N-GRAMS\",y=[\"test_ted\",\"test_reddit\",\"test_news\"],kind=\"bar\",rot=0)"
   ]
  },
  {
   "cell_type": "code",
   "execution_count": 5,
   "metadata": {},
   "outputs": [
    {
     "data": {
      "text/html": [
       "<div>\n",
       "<style scoped>\n",
       "    .dataframe tbody tr th:only-of-type {\n",
       "        vertical-align: middle;\n",
       "    }\n",
       "\n",
       "    .dataframe tbody tr th {\n",
       "        vertical-align: top;\n",
       "    }\n",
       "\n",
       "    .dataframe thead th {\n",
       "        text-align: right;\n",
       "    }\n",
       "</style>\n",
       "<table border=\"1\" class=\"dataframe\">\n",
       "  <thead>\n",
       "    <tr style=\"text-align: right;\">\n",
       "      <th></th>\n",
       "      <th>N-GRAMS</th>\n",
       "      <th>test_ted</th>\n",
       "      <th>test_reddit</th>\n",
       "      <th>test_news</th>\n",
       "    </tr>\n",
       "  </thead>\n",
       "  <tbody>\n",
       "    <tr>\n",
       "      <th>0</th>\n",
       "      <td>n=1</td>\n",
       "      <td>270.98</td>\n",
       "      <td>345.54</td>\n",
       "      <td>423.15</td>\n",
       "    </tr>\n",
       "    <tr>\n",
       "      <th>1</th>\n",
       "      <td>n=2</td>\n",
       "      <td>114.17</td>\n",
       "      <td>139.22</td>\n",
       "      <td>235.74</td>\n",
       "    </tr>\n",
       "    <tr>\n",
       "      <th>2</th>\n",
       "      <td>n=3</td>\n",
       "      <td>145.48</td>\n",
       "      <td>175.89</td>\n",
       "      <td>358.30</td>\n",
       "    </tr>\n",
       "    <tr>\n",
       "      <th>3</th>\n",
       "      <td>n=4</td>\n",
       "      <td>259.98</td>\n",
       "      <td>309.25</td>\n",
       "      <td>702.47</td>\n",
       "    </tr>\n",
       "    <tr>\n",
       "      <th>4</th>\n",
       "      <td>n=5</td>\n",
       "      <td>482.64</td>\n",
       "      <td>566.72</td>\n",
       "      <td>1407.25</td>\n",
       "    </tr>\n",
       "    <tr>\n",
       "      <th>5</th>\n",
       "      <td>n=6</td>\n",
       "      <td>853.75</td>\n",
       "      <td>1001.35</td>\n",
       "      <td>2711.39</td>\n",
       "    </tr>\n",
       "    <tr>\n",
       "      <th>6</th>\n",
       "      <td>n=7</td>\n",
       "      <td>1426.02</td>\n",
       "      <td>1670.27</td>\n",
       "      <td>4979.61</td>\n",
       "    </tr>\n",
       "  </tbody>\n",
       "</table>\n",
       "</div>"
      ],
      "text/plain": [
       "  N-GRAMS  test_ted  test_reddit  test_news\n",
       "0     n=1    270.98       345.54     423.15\n",
       "1     n=2    114.17       139.22     235.74\n",
       "2     n=3    145.48       175.89     358.30\n",
       "3     n=4    259.98       309.25     702.47\n",
       "4     n=5    482.64       566.72    1407.25\n",
       "5     n=6    853.75      1001.35    2711.39\n",
       "6     n=7   1426.02      1670.27    4979.61"
      ]
     },
     "execution_count": 5,
     "metadata": {},
     "output_type": "execute_result"
    }
   ],
   "source": [
    "N =[\"n=1\",\"n=2\",\"n=3\",\"n=4\",\"n=5\",\"n=6\",\"n=7\"]\n",
    "\n",
    "test_ted_data=[270.98,114.17,145.48,259.98,482.64,853.75,1426.02]\n",
    "test_red_data=[345.54,139.22,175.89,309.25,566.72,1001.35,1670.27]\n",
    "test_news_data=[423.15,235.74,358.30,702.47,1407.25,2711.39,4979.61]\n",
    "\n",
    "dfn= pd.DataFrame(test_ted_data)\n",
    "dfn[\"N-GRAMS\"]= N\n",
    "dfn[\"test_ted\"]= test_ted_data\n",
    "dfn[\"test_reddit\"]= test_red_data\n",
    "dfn[\"test_news\"]= test_news_data\n",
    "dfn.drop([0],axis=1)"
   ]
  },
  {
   "cell_type": "code",
   "execution_count": 6,
   "metadata": {},
   "outputs": [
    {
     "data": {
      "text/plain": [
       "<AxesSubplot:xlabel='N-GRAMS'>"
      ]
     },
     "execution_count": 6,
     "metadata": {},
     "output_type": "execute_result"
    },
    {
     "data": {
      "image/png": "[encoded data removed]",
      "text/plain": [
       "<Figure size 432x288 with 1 Axes>"
      ]
     },
     "metadata": {
      "needs_background": "light"
     },
     "output_type": "display_data"
    }
   ],
   "source": [
    "dfn.plot(x=\"N-GRAMS\",y=[\"test_ted\",\"test_reddit\",\"test_news\"],kind=\"bar\",rot=0)"
   ]
  }
 ],
 "metadata": {
  "interpreter": {
   "hash": "a0624dec9b47ad8fef0bd67c19b115b4dbf69c45ac177bab83f84df399df6d09"
  },
  "kernelspec": {
   "display_name": "Python 3.9.0 64-bit",
   "language": "python",
   "name": "python3"
  },
  "language_info": {
   "codemirror_mode": {
    "name": "ipython",
    "version": 3
   },
   "file_extension": ".py",
   "mimetype": "text/x-python",
   "name": "python",
   "nbconvert_exporter": "python",
   "pygments_lexer": "ipython3",
   "version": "3.9.0"
  },
  "orig_nbformat": 4
 },
 "nbformat": 4,
 "nbformat_minor": 2
}
