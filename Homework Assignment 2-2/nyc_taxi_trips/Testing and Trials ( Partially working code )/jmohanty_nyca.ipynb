{
 "cells": [
  {
   "cell_type": "code",
   "execution_count": 79,
   "metadata": {},
   "outputs": [],
   "source": [
    "import numpy as np\n",
    "import pandas as pd"
   ]
  },
  {
   "cell_type": "code",
   "execution_count": 80,
   "metadata": {},
   "outputs": [],
   "source": [
    "nyc_data = pd.read_csv(\"nyc_taxi_data.csv\")"
   ]
  },
  {
   "cell_type": "code",
   "execution_count": 81,
   "metadata": {},
   "outputs": [
    {
     "data": {
      "text/html": [
       "<div>\n",
       "<style scoped>\n",
       "    .dataframe tbody tr th:only-of-type {\n",
       "        vertical-align: middle;\n",
       "    }\n",
       "\n",
       "    .dataframe tbody tr th {\n",
       "        vertical-align: top;\n",
       "    }\n",
       "\n",
       "    .dataframe thead th {\n",
       "        text-align: right;\n",
       "    }\n",
       "</style>\n",
       "<table border=\"1\" class=\"dataframe\">\n",
       "  <thead>\n",
       "    <tr style=\"text-align: right;\">\n",
       "      <th></th>\n",
       "      <th>Unnamed: 0</th>\n",
       "      <th>tpep_pickup_datetime</th>\n",
       "      <th>tpep_dropoff_datetime</th>\n",
       "      <th>pickup_longitude</th>\n",
       "      <th>pickup_latitude</th>\n",
       "      <th>dropoff_longitude</th>\n",
       "      <th>dropoff_latitude</th>\n",
       "      <th>trip_distance</th>\n",
       "      <th>pickup_hrs</th>\n",
       "      <th>dropoff_hrs</th>\n",
       "      <th>day_week</th>\n",
       "      <th>tpep_pickup_timestamp</th>\n",
       "      <th>tpep_dropoff_timestamp</th>\n",
       "      <th>duration</th>\n",
       "      <th>speed</th>\n",
       "    </tr>\n",
       "  </thead>\n",
       "  <tbody>\n",
       "    <tr>\n",
       "      <th>0</th>\n",
       "      <td>0</td>\n",
       "      <td>2015-01-24 18:00:28</td>\n",
       "      <td>2015-01-24 18:10:07</td>\n",
       "      <td>-73.964111</td>\n",
       "      <td>40.761398</td>\n",
       "      <td>-73.977989</td>\n",
       "      <td>40.783093</td>\n",
       "      <td>2.40</td>\n",
       "      <td>18</td>\n",
       "      <td>18</td>\n",
       "      <td>5</td>\n",
       "      <td>1422122428</td>\n",
       "      <td>1422123007</td>\n",
       "      <td>579</td>\n",
       "      <td>14</td>\n",
       "    </tr>\n",
       "    <tr>\n",
       "      <th>1</th>\n",
       "      <td>1</td>\n",
       "      <td>2015-01-15 4:37:29</td>\n",
       "      <td>2015-01-15 4:58:14</td>\n",
       "      <td>-73.961479</td>\n",
       "      <td>40.760410</td>\n",
       "      <td>-73.943573</td>\n",
       "      <td>40.709702</td>\n",
       "      <td>5.00</td>\n",
       "      <td>4</td>\n",
       "      <td>4</td>\n",
       "      <td>3</td>\n",
       "      <td>1421296649</td>\n",
       "      <td>1421297894</td>\n",
       "      <td>1245</td>\n",
       "      <td>14</td>\n",
       "    </tr>\n",
       "    <tr>\n",
       "      <th>2</th>\n",
       "      <td>2</td>\n",
       "      <td>2015-01-09 5:14:31</td>\n",
       "      <td>2015-01-09 5:47:16</td>\n",
       "      <td>-73.986893</td>\n",
       "      <td>40.761726</td>\n",
       "      <td>-73.873169</td>\n",
       "      <td>40.774326</td>\n",
       "      <td>10.25</td>\n",
       "      <td>5</td>\n",
       "      <td>5</td>\n",
       "      <td>4</td>\n",
       "      <td>1420780471</td>\n",
       "      <td>1420782436</td>\n",
       "      <td>1965</td>\n",
       "      <td>18</td>\n",
       "    </tr>\n",
       "    <tr>\n",
       "      <th>3</th>\n",
       "      <td>3</td>\n",
       "      <td>2015-01-29 9:52:05</td>\n",
       "      <td>2015-01-29 10:16:33</td>\n",
       "      <td>-73.965759</td>\n",
       "      <td>40.758114</td>\n",
       "      <td>-74.010399</td>\n",
       "      <td>40.701965</td>\n",
       "      <td>5.46</td>\n",
       "      <td>9</td>\n",
       "      <td>10</td>\n",
       "      <td>3</td>\n",
       "      <td>1422525125</td>\n",
       "      <td>1422526593</td>\n",
       "      <td>1468</td>\n",
       "      <td>13</td>\n",
       "    </tr>\n",
       "    <tr>\n",
       "      <th>4</th>\n",
       "      <td>4</td>\n",
       "      <td>2015-01-02 2:20:01</td>\n",
       "      <td>2015-01-02 2:27:37</td>\n",
       "      <td>-73.955032</td>\n",
       "      <td>40.821857</td>\n",
       "      <td>-73.950897</td>\n",
       "      <td>40.808399</td>\n",
       "      <td>1.50</td>\n",
       "      <td>2</td>\n",
       "      <td>2</td>\n",
       "      <td>4</td>\n",
       "      <td>1420165201</td>\n",
       "      <td>1420165657</td>\n",
       "      <td>456</td>\n",
       "      <td>11</td>\n",
       "    </tr>\n",
       "  </tbody>\n",
       "</table>\n",
       "</div>"
      ],
      "text/plain": [
       "   Unnamed: 0 tpep_pickup_datetime tpep_dropoff_datetime  pickup_longitude  \\\n",
       "0           0  2015-01-24 18:00:28   2015-01-24 18:10:07        -73.964111   \n",
       "1           1   2015-01-15 4:37:29    2015-01-15 4:58:14        -73.961479   \n",
       "2           2   2015-01-09 5:14:31    2015-01-09 5:47:16        -73.986893   \n",
       "3           3   2015-01-29 9:52:05   2015-01-29 10:16:33        -73.965759   \n",
       "4           4   2015-01-02 2:20:01    2015-01-02 2:27:37        -73.955032   \n",
       "\n",
       "   pickup_latitude  dropoff_longitude  dropoff_latitude  trip_distance  \\\n",
       "0        40.761398         -73.977989         40.783093           2.40   \n",
       "1        40.760410         -73.943573         40.709702           5.00   \n",
       "2        40.761726         -73.873169         40.774326          10.25   \n",
       "3        40.758114         -74.010399         40.701965           5.46   \n",
       "4        40.821857         -73.950897         40.808399           1.50   \n",
       "\n",
       "   pickup_hrs  dropoff_hrs  day_week  tpep_pickup_timestamp  \\\n",
       "0          18           18         5             1422122428   \n",
       "1           4            4         3             1421296649   \n",
       "2           5            5         4             1420780471   \n",
       "3           9           10         3             1422525125   \n",
       "4           2            2         4             1420165201   \n",
       "\n",
       "   tpep_dropoff_timestamp  duration  speed  \n",
       "0              1422123007       579     14  \n",
       "1              1421297894      1245     14  \n",
       "2              1420782436      1965     18  \n",
       "3              1422526593      1468     13  \n",
       "4              1420165657       456     11  "
      ]
     },
     "execution_count": 81,
     "metadata": {},
     "output_type": "execute_result"
    }
   ],
   "source": [
    "nyc_data.head()"
   ]
  },
  {
   "cell_type": "code",
   "execution_count": 82,
   "metadata": {},
   "outputs": [],
   "source": [
    "nyc_data.rename(columns={'Unnamed: 0':'id'},inplace=True)"
   ]
  },
  {
   "cell_type": "code",
   "execution_count": 83,
   "metadata": {},
   "outputs": [
    {
     "data": {
      "text/html": [
       "<div>\n",
       "<style scoped>\n",
       "    .dataframe tbody tr th:only-of-type {\n",
       "        vertical-align: middle;\n",
       "    }\n",
       "\n",
       "    .dataframe tbody tr th {\n",
       "        vertical-align: top;\n",
       "    }\n",
       "\n",
       "    .dataframe thead th {\n",
       "        text-align: right;\n",
       "    }\n",
       "</style>\n",
       "<table border=\"1\" class=\"dataframe\">\n",
       "  <thead>\n",
       "    <tr style=\"text-align: right;\">\n",
       "      <th></th>\n",
       "      <th>id</th>\n",
       "      <th>tpep_pickup_datetime</th>\n",
       "      <th>tpep_dropoff_datetime</th>\n",
       "      <th>pickup_longitude</th>\n",
       "      <th>pickup_latitude</th>\n",
       "      <th>dropoff_longitude</th>\n",
       "      <th>dropoff_latitude</th>\n",
       "      <th>trip_distance</th>\n",
       "      <th>pickup_hrs</th>\n",
       "      <th>dropoff_hrs</th>\n",
       "      <th>day_week</th>\n",
       "      <th>tpep_pickup_timestamp</th>\n",
       "      <th>tpep_dropoff_timestamp</th>\n",
       "      <th>duration</th>\n",
       "      <th>speed</th>\n",
       "    </tr>\n",
       "  </thead>\n",
       "  <tbody>\n",
       "    <tr>\n",
       "      <th>0</th>\n",
       "      <td>0</td>\n",
       "      <td>2015-01-24 18:00:28</td>\n",
       "      <td>2015-01-24 18:10:07</td>\n",
       "      <td>-73.964111</td>\n",
       "      <td>40.761398</td>\n",
       "      <td>-73.977989</td>\n",
       "      <td>40.783093</td>\n",
       "      <td>2.40</td>\n",
       "      <td>18</td>\n",
       "      <td>18</td>\n",
       "      <td>5</td>\n",
       "      <td>1422122428</td>\n",
       "      <td>1422123007</td>\n",
       "      <td>579</td>\n",
       "      <td>14</td>\n",
       "    </tr>\n",
       "    <tr>\n",
       "      <th>1</th>\n",
       "      <td>1</td>\n",
       "      <td>2015-01-15 4:37:29</td>\n",
       "      <td>2015-01-15 4:58:14</td>\n",
       "      <td>-73.961479</td>\n",
       "      <td>40.760410</td>\n",
       "      <td>-73.943573</td>\n",
       "      <td>40.709702</td>\n",
       "      <td>5.00</td>\n",
       "      <td>4</td>\n",
       "      <td>4</td>\n",
       "      <td>3</td>\n",
       "      <td>1421296649</td>\n",
       "      <td>1421297894</td>\n",
       "      <td>1245</td>\n",
       "      <td>14</td>\n",
       "    </tr>\n",
       "    <tr>\n",
       "      <th>2</th>\n",
       "      <td>2</td>\n",
       "      <td>2015-01-09 5:14:31</td>\n",
       "      <td>2015-01-09 5:47:16</td>\n",
       "      <td>-73.986893</td>\n",
       "      <td>40.761726</td>\n",
       "      <td>-73.873169</td>\n",
       "      <td>40.774326</td>\n",
       "      <td>10.25</td>\n",
       "      <td>5</td>\n",
       "      <td>5</td>\n",
       "      <td>4</td>\n",
       "      <td>1420780471</td>\n",
       "      <td>1420782436</td>\n",
       "      <td>1965</td>\n",
       "      <td>18</td>\n",
       "    </tr>\n",
       "    <tr>\n",
       "      <th>3</th>\n",
       "      <td>3</td>\n",
       "      <td>2015-01-29 9:52:05</td>\n",
       "      <td>2015-01-29 10:16:33</td>\n",
       "      <td>-73.965759</td>\n",
       "      <td>40.758114</td>\n",
       "      <td>-74.010399</td>\n",
       "      <td>40.701965</td>\n",
       "      <td>5.46</td>\n",
       "      <td>9</td>\n",
       "      <td>10</td>\n",
       "      <td>3</td>\n",
       "      <td>1422525125</td>\n",
       "      <td>1422526593</td>\n",
       "      <td>1468</td>\n",
       "      <td>13</td>\n",
       "    </tr>\n",
       "    <tr>\n",
       "      <th>4</th>\n",
       "      <td>4</td>\n",
       "      <td>2015-01-02 2:20:01</td>\n",
       "      <td>2015-01-02 2:27:37</td>\n",
       "      <td>-73.955032</td>\n",
       "      <td>40.821857</td>\n",
       "      <td>-73.950897</td>\n",
       "      <td>40.808399</td>\n",
       "      <td>1.50</td>\n",
       "      <td>2</td>\n",
       "      <td>2</td>\n",
       "      <td>4</td>\n",
       "      <td>1420165201</td>\n",
       "      <td>1420165657</td>\n",
       "      <td>456</td>\n",
       "      <td>11</td>\n",
       "    </tr>\n",
       "  </tbody>\n",
       "</table>\n",
       "</div>"
      ],
      "text/plain": [
       "   id tpep_pickup_datetime tpep_dropoff_datetime  pickup_longitude  \\\n",
       "0   0  2015-01-24 18:00:28   2015-01-24 18:10:07        -73.964111   \n",
       "1   1   2015-01-15 4:37:29    2015-01-15 4:58:14        -73.961479   \n",
       "2   2   2015-01-09 5:14:31    2015-01-09 5:47:16        -73.986893   \n",
       "3   3   2015-01-29 9:52:05   2015-01-29 10:16:33        -73.965759   \n",
       "4   4   2015-01-02 2:20:01    2015-01-02 2:27:37        -73.955032   \n",
       "\n",
       "   pickup_latitude  dropoff_longitude  dropoff_latitude  trip_distance  \\\n",
       "0        40.761398         -73.977989         40.783093           2.40   \n",
       "1        40.760410         -73.943573         40.709702           5.00   \n",
       "2        40.761726         -73.873169         40.774326          10.25   \n",
       "3        40.758114         -74.010399         40.701965           5.46   \n",
       "4        40.821857         -73.950897         40.808399           1.50   \n",
       "\n",
       "   pickup_hrs  dropoff_hrs  day_week  tpep_pickup_timestamp  \\\n",
       "0          18           18         5             1422122428   \n",
       "1           4            4         3             1421296649   \n",
       "2           5            5         4             1420780471   \n",
       "3           9           10         3             1422525125   \n",
       "4           2            2         4             1420165201   \n",
       "\n",
       "   tpep_dropoff_timestamp  duration  speed  \n",
       "0              1422123007       579     14  \n",
       "1              1421297894      1245     14  \n",
       "2              1420782436      1965     18  \n",
       "3              1422526593      1468     13  \n",
       "4              1420165657       456     11  "
      ]
     },
     "execution_count": 83,
     "metadata": {},
     "output_type": "execute_result"
    }
   ],
   "source": [
    "nyc_data.head()"
   ]
  },
  {
   "cell_type": "code",
   "execution_count": 84,
   "metadata": {},
   "outputs": [
    {
     "data": {
      "text/html": [
       "<div>\n",
       "<style scoped>\n",
       "    .dataframe tbody tr th:only-of-type {\n",
       "        vertical-align: middle;\n",
       "    }\n",
       "\n",
       "    .dataframe tbody tr th {\n",
       "        vertical-align: top;\n",
       "    }\n",
       "\n",
       "    .dataframe thead th {\n",
       "        text-align: right;\n",
       "    }\n",
       "</style>\n",
       "<table border=\"1\" class=\"dataframe\">\n",
       "  <thead>\n",
       "    <tr style=\"text-align: right;\">\n",
       "      <th></th>\n",
       "      <th>id</th>\n",
       "      <th>pickup_longitude</th>\n",
       "      <th>pickup_latitude</th>\n",
       "      <th>dropoff_longitude</th>\n",
       "      <th>dropoff_latitude</th>\n",
       "      <th>trip_distance</th>\n",
       "      <th>pickup_hrs</th>\n",
       "      <th>dropoff_hrs</th>\n",
       "      <th>day_week</th>\n",
       "      <th>tpep_pickup_timestamp</th>\n",
       "      <th>tpep_dropoff_timestamp</th>\n",
       "      <th>duration</th>\n",
       "      <th>speed</th>\n",
       "    </tr>\n",
       "  </thead>\n",
       "  <tbody>\n",
       "    <tr>\n",
       "      <th>count</th>\n",
       "      <td>168152.000000</td>\n",
       "      <td>168152.000000</td>\n",
       "      <td>168152.000000</td>\n",
       "      <td>168152.000000</td>\n",
       "      <td>168152.000000</td>\n",
       "      <td>168152.000000</td>\n",
       "      <td>168152.000000</td>\n",
       "      <td>168152.000000</td>\n",
       "      <td>168152.000000</td>\n",
       "      <td>1.681520e+05</td>\n",
       "      <td>1.681520e+05</td>\n",
       "      <td>168152.000000</td>\n",
       "      <td>168152.000000</td>\n",
       "    </tr>\n",
       "    <tr>\n",
       "      <th>mean</th>\n",
       "      <td>100031.016354</td>\n",
       "      <td>-73.973930</td>\n",
       "      <td>40.750815</td>\n",
       "      <td>-73.940393</td>\n",
       "      <td>40.733571</td>\n",
       "      <td>3.050135</td>\n",
       "      <td>13.608247</td>\n",
       "      <td>13.581254</td>\n",
       "      <td>3.318521</td>\n",
       "      <td>1.421403e+09</td>\n",
       "      <td>1.421404e+09</td>\n",
       "      <td>736.119618</td>\n",
       "      <td>13.104263</td>\n",
       "    </tr>\n",
       "    <tr>\n",
       "      <th>std</th>\n",
       "      <td>57726.578932</td>\n",
       "      <td>0.039688</td>\n",
       "      <td>0.046633</td>\n",
       "      <td>1.562324</td>\n",
       "      <td>0.861079</td>\n",
       "      <td>3.547096</td>\n",
       "      <td>6.639063</td>\n",
       "      <td>6.709647</td>\n",
       "      <td>1.893049</td>\n",
       "      <td>7.589222e+05</td>\n",
       "      <td>7.589377e+05</td>\n",
       "      <td>560.857429</td>\n",
       "      <td>6.144924</td>\n",
       "    </tr>\n",
       "    <tr>\n",
       "      <th>min</th>\n",
       "      <td>0.000000</td>\n",
       "      <td>-77.972191</td>\n",
       "      <td>30.130457</td>\n",
       "      <td>-74.961456</td>\n",
       "      <td>0.000000</td>\n",
       "      <td>0.010000</td>\n",
       "      <td>0.000000</td>\n",
       "      <td>0.000000</td>\n",
       "      <td>0.000000</td>\n",
       "      <td>1.420070e+09</td>\n",
       "      <td>1.420071e+09</td>\n",
       "      <td>4.000000</td>\n",
       "      <td>7.000000</td>\n",
       "    </tr>\n",
       "    <tr>\n",
       "      <th>25%</th>\n",
       "      <td>50066.500000</td>\n",
       "      <td>-73.991982</td>\n",
       "      <td>40.735931</td>\n",
       "      <td>-73.991486</td>\n",
       "      <td>40.734497</td>\n",
       "      <td>1.100000</td>\n",
       "      <td>9.000000</td>\n",
       "      <td>9.000000</td>\n",
       "      <td>2.000000</td>\n",
       "      <td>1.420764e+09</td>\n",
       "      <td>1.420765e+09</td>\n",
       "      <td>359.000000</td>\n",
       "      <td>9.000000</td>\n",
       "    </tr>\n",
       "    <tr>\n",
       "      <th>50%</th>\n",
       "      <td>100030.000000</td>\n",
       "      <td>-73.981880</td>\n",
       "      <td>40.754158</td>\n",
       "      <td>-73.979736</td>\n",
       "      <td>40.754173</td>\n",
       "      <td>1.840000</td>\n",
       "      <td>15.000000</td>\n",
       "      <td>15.000000</td>\n",
       "      <td>4.000000</td>\n",
       "      <td>1.421402e+09</td>\n",
       "      <td>1.421402e+09</td>\n",
       "      <td>587.000000</td>\n",
       "      <td>11.000000</td>\n",
       "    </tr>\n",
       "    <tr>\n",
       "      <th>75%</th>\n",
       "      <td>149994.250000</td>\n",
       "      <td>-73.967331</td>\n",
       "      <td>40.768734</td>\n",
       "      <td>-73.962044</td>\n",
       "      <td>40.770947</td>\n",
       "      <td>3.380000</td>\n",
       "      <td>19.000000</td>\n",
       "      <td>19.000000</td>\n",
       "      <td>5.000000</td>\n",
       "      <td>1.422033e+09</td>\n",
       "      <td>1.422034e+09</td>\n",
       "      <td>944.000000</td>\n",
       "      <td>15.000000</td>\n",
       "    </tr>\n",
       "    <tr>\n",
       "      <th>max</th>\n",
       "      <td>199999.000000</td>\n",
       "      <td>-73.423714</td>\n",
       "      <td>50.769863</td>\n",
       "      <td>0.000000</td>\n",
       "      <td>41.298168</td>\n",
       "      <td>74.800000</td>\n",
       "      <td>23.000000</td>\n",
       "      <td>23.000000</td>\n",
       "      <td>6.000000</td>\n",
       "      <td>1.422749e+09</td>\n",
       "      <td>1.422751e+09</td>\n",
       "      <td>15306.000000</td>\n",
       "      <td>137.000000</td>\n",
       "    </tr>\n",
       "  </tbody>\n",
       "</table>\n",
       "</div>"
      ],
      "text/plain": [
       "                  id  pickup_longitude  pickup_latitude  dropoff_longitude  \\\n",
       "count  168152.000000     168152.000000    168152.000000      168152.000000   \n",
       "mean   100031.016354        -73.973930        40.750815         -73.940393   \n",
       "std     57726.578932          0.039688         0.046633           1.562324   \n",
       "min         0.000000        -77.972191        30.130457         -74.961456   \n",
       "25%     50066.500000        -73.991982        40.735931         -73.991486   \n",
       "50%    100030.000000        -73.981880        40.754158         -73.979736   \n",
       "75%    149994.250000        -73.967331        40.768734         -73.962044   \n",
       "max    199999.000000        -73.423714        50.769863           0.000000   \n",
       "\n",
       "       dropoff_latitude  trip_distance     pickup_hrs    dropoff_hrs  \\\n",
       "count     168152.000000  168152.000000  168152.000000  168152.000000   \n",
       "mean          40.733571       3.050135      13.608247      13.581254   \n",
       "std            0.861079       3.547096       6.639063       6.709647   \n",
       "min            0.000000       0.010000       0.000000       0.000000   \n",
       "25%           40.734497       1.100000       9.000000       9.000000   \n",
       "50%           40.754173       1.840000      15.000000      15.000000   \n",
       "75%           40.770947       3.380000      19.000000      19.000000   \n",
       "max           41.298168      74.800000      23.000000      23.000000   \n",
       "\n",
       "            day_week  tpep_pickup_timestamp  tpep_dropoff_timestamp  \\\n",
       "count  168152.000000           1.681520e+05            1.681520e+05   \n",
       "mean        3.318521           1.421403e+09            1.421404e+09   \n",
       "std         1.893049           7.589222e+05            7.589377e+05   \n",
       "min         0.000000           1.420070e+09            1.420071e+09   \n",
       "25%         2.000000           1.420764e+09            1.420765e+09   \n",
       "50%         4.000000           1.421402e+09            1.421402e+09   \n",
       "75%         5.000000           1.422033e+09            1.422034e+09   \n",
       "max         6.000000           1.422749e+09            1.422751e+09   \n",
       "\n",
       "            duration          speed  \n",
       "count  168152.000000  168152.000000  \n",
       "mean      736.119618      13.104263  \n",
       "std       560.857429       6.144924  \n",
       "min         4.000000       7.000000  \n",
       "25%       359.000000       9.000000  \n",
       "50%       587.000000      11.000000  \n",
       "75%       944.000000      15.000000  \n",
       "max     15306.000000     137.000000  "
      ]
     },
     "execution_count": 84,
     "metadata": {},
     "output_type": "execute_result"
    }
   ],
   "source": [
    "nyc_data.describe()"
   ]
  },
  {
   "cell_type": "code",
   "execution_count": 85,
   "metadata": {},
   "outputs": [],
   "source": [
    "nycdata = nyc_data[['pickup_latitude','pickup_longitude','dropoff_latitude','dropoff_longitude','trip_distance']]"
   ]
  },
  {
   "cell_type": "code",
   "execution_count": 86,
   "metadata": {},
   "outputs": [
    {
     "data": {
      "text/html": [
       "<div>\n",
       "<style scoped>\n",
       "    .dataframe tbody tr th:only-of-type {\n",
       "        vertical-align: middle;\n",
       "    }\n",
       "\n",
       "    .dataframe tbody tr th {\n",
       "        vertical-align: top;\n",
       "    }\n",
       "\n",
       "    .dataframe thead th {\n",
       "        text-align: right;\n",
       "    }\n",
       "</style>\n",
       "<table border=\"1\" class=\"dataframe\">\n",
       "  <thead>\n",
       "    <tr style=\"text-align: right;\">\n",
       "      <th></th>\n",
       "      <th>pickup_latitude</th>\n",
       "      <th>pickup_longitude</th>\n",
       "      <th>dropoff_latitude</th>\n",
       "      <th>dropoff_longitude</th>\n",
       "      <th>trip_distance</th>\n",
       "    </tr>\n",
       "  </thead>\n",
       "  <tbody>\n",
       "    <tr>\n",
       "      <th>0</th>\n",
       "      <td>40.761398</td>\n",
       "      <td>-73.964111</td>\n",
       "      <td>40.783093</td>\n",
       "      <td>-73.977989</td>\n",
       "      <td>2.40</td>\n",
       "    </tr>\n",
       "    <tr>\n",
       "      <th>1</th>\n",
       "      <td>40.760410</td>\n",
       "      <td>-73.961479</td>\n",
       "      <td>40.709702</td>\n",
       "      <td>-73.943573</td>\n",
       "      <td>5.00</td>\n",
       "    </tr>\n",
       "    <tr>\n",
       "      <th>2</th>\n",
       "      <td>40.761726</td>\n",
       "      <td>-73.986893</td>\n",
       "      <td>40.774326</td>\n",
       "      <td>-73.873169</td>\n",
       "      <td>10.25</td>\n",
       "    </tr>\n",
       "    <tr>\n",
       "      <th>3</th>\n",
       "      <td>40.758114</td>\n",
       "      <td>-73.965759</td>\n",
       "      <td>40.701965</td>\n",
       "      <td>-74.010399</td>\n",
       "      <td>5.46</td>\n",
       "    </tr>\n",
       "    <tr>\n",
       "      <th>4</th>\n",
       "      <td>40.821857</td>\n",
       "      <td>-73.955032</td>\n",
       "      <td>40.808399</td>\n",
       "      <td>-73.950897</td>\n",
       "      <td>1.50</td>\n",
       "    </tr>\n",
       "  </tbody>\n",
       "</table>\n",
       "</div>"
      ],
      "text/plain": [
       "   pickup_latitude  pickup_longitude  dropoff_latitude  dropoff_longitude  \\\n",
       "0        40.761398        -73.964111         40.783093         -73.977989   \n",
       "1        40.760410        -73.961479         40.709702         -73.943573   \n",
       "2        40.761726        -73.986893         40.774326         -73.873169   \n",
       "3        40.758114        -73.965759         40.701965         -74.010399   \n",
       "4        40.821857        -73.955032         40.808399         -73.950897   \n",
       "\n",
       "   trip_distance  \n",
       "0           2.40  \n",
       "1           5.00  \n",
       "2          10.25  \n",
       "3           5.46  \n",
       "4           1.50  "
      ]
     },
     "execution_count": 86,
     "metadata": {},
     "output_type": "execute_result"
    }
   ],
   "source": [
    "nycdata.head()"
   ]
  },
  {
   "cell_type": "code",
   "execution_count": 87,
   "metadata": {},
   "outputs": [],
   "source": [
    "nycdata = np.round(nycdata, decimals=4)"
   ]
  },
  {
   "cell_type": "code",
   "execution_count": 88,
   "metadata": {},
   "outputs": [],
   "source": [
    "nycdata = nycdata.drop(['trip_distance'], axis=1)"
   ]
  },
  {
   "cell_type": "code",
   "execution_count": 89,
   "metadata": {},
   "outputs": [
    {
     "data": {
      "text/html": [
       "<div>\n",
       "<style scoped>\n",
       "    .dataframe tbody tr th:only-of-type {\n",
       "        vertical-align: middle;\n",
       "    }\n",
       "\n",
       "    .dataframe tbody tr th {\n",
       "        vertical-align: top;\n",
       "    }\n",
       "\n",
       "    .dataframe thead th {\n",
       "        text-align: right;\n",
       "    }\n",
       "</style>\n",
       "<table border=\"1\" class=\"dataframe\">\n",
       "  <thead>\n",
       "    <tr style=\"text-align: right;\">\n",
       "      <th></th>\n",
       "      <th>pickup_latitude</th>\n",
       "      <th>pickup_longitude</th>\n",
       "      <th>dropoff_latitude</th>\n",
       "      <th>dropoff_longitude</th>\n",
       "    </tr>\n",
       "  </thead>\n",
       "  <tbody>\n",
       "    <tr>\n",
       "      <th>0</th>\n",
       "      <td>40.7614</td>\n",
       "      <td>-73.9641</td>\n",
       "      <td>40.7831</td>\n",
       "      <td>-73.9780</td>\n",
       "    </tr>\n",
       "    <tr>\n",
       "      <th>1</th>\n",
       "      <td>40.7604</td>\n",
       "      <td>-73.9615</td>\n",
       "      <td>40.7097</td>\n",
       "      <td>-73.9436</td>\n",
       "    </tr>\n",
       "    <tr>\n",
       "      <th>2</th>\n",
       "      <td>40.7617</td>\n",
       "      <td>-73.9869</td>\n",
       "      <td>40.7743</td>\n",
       "      <td>-73.8732</td>\n",
       "    </tr>\n",
       "    <tr>\n",
       "      <th>3</th>\n",
       "      <td>40.7581</td>\n",
       "      <td>-73.9658</td>\n",
       "      <td>40.7020</td>\n",
       "      <td>-74.0104</td>\n",
       "    </tr>\n",
       "    <tr>\n",
       "      <th>4</th>\n",
       "      <td>40.8219</td>\n",
       "      <td>-73.9550</td>\n",
       "      <td>40.8084</td>\n",
       "      <td>-73.9509</td>\n",
       "    </tr>\n",
       "  </tbody>\n",
       "</table>\n",
       "</div>"
      ],
      "text/plain": [
       "   pickup_latitude  pickup_longitude  dropoff_latitude  dropoff_longitude\n",
       "0          40.7614          -73.9641           40.7831           -73.9780\n",
       "1          40.7604          -73.9615           40.7097           -73.9436\n",
       "2          40.7617          -73.9869           40.7743           -73.8732\n",
       "3          40.7581          -73.9658           40.7020           -74.0104\n",
       "4          40.8219          -73.9550           40.8084           -73.9509"
      ]
     },
     "execution_count": 89,
     "metadata": {},
     "output_type": "execute_result"
    }
   ],
   "source": [
    "nycdata.head()"
   ]
  },
  {
   "cell_type": "code",
   "execution_count": 90,
   "metadata": {},
   "outputs": [],
   "source": [
    "pickup = nycdata[['pickup_latitude','pickup_longitude']].apply(tuple, axis=1)\n",
    "dropoff = nycdata[['dropoff_latitude','dropoff_longitude']].apply(tuple, axis=1)"
   ]
  },
  {
   "cell_type": "code",
   "execution_count": 91,
   "metadata": {},
   "outputs": [
    {
     "name": "stdout",
     "output_type": "stream",
     "text": [
      "0         (40.7614, -73.9641)\n",
      "1         (40.7604, -73.9615)\n",
      "2         (40.7617, -73.9869)\n",
      "3         (40.7581, -73.9658)\n",
      "4          (40.8219, -73.955)\n",
      "                 ...         \n",
      "168147    (40.7515, -73.9944)\n",
      "168148    (40.7781, -73.9609)\n",
      "168149    (40.7697, -73.9626)\n",
      "168150    (40.6513, -74.0074)\n",
      "168151     (40.7549, -73.987)\n",
      "Length: 168152, dtype: object\n"
     ]
    }
   ],
   "source": [
    "print(pickup)"
   ]
  },
  {
   "cell_type": "code",
   "execution_count": 92,
   "metadata": {},
   "outputs": [
    {
     "name": "stdout",
     "output_type": "stream",
     "text": [
      "0          (40.7831, -73.978)\n",
      "1         (40.7097, -73.9436)\n",
      "2         (40.7743, -73.8732)\n",
      "3          (40.702, -74.0104)\n",
      "4         (40.8084, -73.9509)\n",
      "                 ...         \n",
      "168147    (40.7611, -73.9831)\n",
      "168148    (40.7643, -73.9739)\n",
      "168149    (40.7636, -73.9754)\n",
      "168150    (40.6789, -73.9787)\n",
      "168151    (40.7641, -73.9802)\n",
      "Length: 168152, dtype: object\n"
     ]
    }
   ],
   "source": [
    "print(dropoff)"
   ]
  },
  {
   "cell_type": "code",
   "execution_count": 93,
   "metadata": {},
   "outputs": [
    {
     "data": {
      "text/plain": [
       "(168152,)"
      ]
     },
     "execution_count": 93,
     "metadata": {},
     "output_type": "execute_result"
    }
   ],
   "source": [
    "pickup.shape"
   ]
  },
  {
   "cell_type": "code",
   "execution_count": 94,
   "metadata": {},
   "outputs": [
    {
     "data": {
      "text/plain": [
       "(168152,)"
      ]
     },
     "execution_count": 94,
     "metadata": {},
     "output_type": "execute_result"
    }
   ],
   "source": [
    "dropoff.shape"
   ]
  },
  {
   "cell_type": "code",
   "execution_count": 95,
   "metadata": {},
   "outputs": [],
   "source": [
    "x = np.concatenate((pickup,dropoff))"
   ]
  },
  {
   "cell_type": "code",
   "execution_count": 96,
   "metadata": {},
   "outputs": [
    {
     "data": {
      "text/plain": [
       "(336304,)"
      ]
     },
     "execution_count": 96,
     "metadata": {},
     "output_type": "execute_result"
    }
   ],
   "source": [
    "x.shape"
   ]
  },
  {
   "cell_type": "code",
   "execution_count": 97,
   "metadata": {},
   "outputs": [
    {
     "name": "stdout",
     "output_type": "stream",
     "text": [
      "[(40.7614, -73.9641) (40.7604, -73.9615) (40.7617, -73.9869) ...\n",
      " (40.7636, -73.9754) (40.6789, -73.9787) (40.7641, -73.9802)]\n"
     ]
    }
   ],
   "source": [
    "print(x)"
   ]
  },
  {
   "cell_type": "code",
   "execution_count": 98,
   "metadata": {},
   "outputs": [],
   "source": [
    "x = np.unique(x)"
   ]
  },
  {
   "cell_type": "code",
   "execution_count": 99,
   "metadata": {},
   "outputs": [
    {
     "data": {
      "text/plain": [
       "(145284,)"
      ]
     },
     "execution_count": 99,
     "metadata": {},
     "output_type": "execute_result"
    }
   ],
   "source": [
    "x.shape"
   ]
  },
  {
   "cell_type": "code",
   "execution_count": 100,
   "metadata": {},
   "outputs": [
    {
     "name": "stdout",
     "output_type": "stream",
     "text": [
      "[(0.0, 0.0) (30.1305, -77.9722) (36.2764, -77.7435) ... (41.0734, -73.855)\n",
      " (41.2982, -73.9206) (50.7699, -73.969)]\n"
     ]
    }
   ],
   "source": [
    "print(x)"
   ]
  },
  {
   "cell_type": "code",
   "execution_count": 101,
   "metadata": {},
   "outputs": [],
   "source": [
    "x = pd.DataFrame(x, columns= ['latitude , longitude'])"
   ]
  },
  {
   "cell_type": "code",
   "execution_count": 102,
   "metadata": {},
   "outputs": [
    {
     "data": {
      "text/html": [
       "<div>\n",
       "<style scoped>\n",
       "    .dataframe tbody tr th:only-of-type {\n",
       "        vertical-align: middle;\n",
       "    }\n",
       "\n",
       "    .dataframe tbody tr th {\n",
       "        vertical-align: top;\n",
       "    }\n",
       "\n",
       "    .dataframe thead th {\n",
       "        text-align: right;\n",
       "    }\n",
       "</style>\n",
       "<table border=\"1\" class=\"dataframe\">\n",
       "  <thead>\n",
       "    <tr style=\"text-align: right;\">\n",
       "      <th></th>\n",
       "      <th>latitude , longitude</th>\n",
       "    </tr>\n",
       "  </thead>\n",
       "  <tbody>\n",
       "    <tr>\n",
       "      <th>0</th>\n",
       "      <td>(0.0, 0.0)</td>\n",
       "    </tr>\n",
       "    <tr>\n",
       "      <th>1</th>\n",
       "      <td>(30.1305, -77.9722)</td>\n",
       "    </tr>\n",
       "    <tr>\n",
       "      <th>2</th>\n",
       "      <td>(36.2764, -77.7435)</td>\n",
       "    </tr>\n",
       "    <tr>\n",
       "      <th>3</th>\n",
       "      <td>(39.9246, -72.9599)</td>\n",
       "    </tr>\n",
       "    <tr>\n",
       "      <th>4</th>\n",
       "      <td>(40.2026, -73.8913)</td>\n",
       "    </tr>\n",
       "  </tbody>\n",
       "</table>\n",
       "</div>"
      ],
      "text/plain": [
       "  latitude , longitude\n",
       "0           (0.0, 0.0)\n",
       "1  (30.1305, -77.9722)\n",
       "2  (36.2764, -77.7435)\n",
       "3  (39.9246, -72.9599)\n",
       "4  (40.2026, -73.8913)"
      ]
     },
     "execution_count": 102,
     "metadata": {},
     "output_type": "execute_result"
    }
   ],
   "source": [
    "x.head()"
   ]
  },
  {
   "cell_type": "code",
   "execution_count": 103,
   "metadata": {},
   "outputs": [
    {
     "data": {
      "text/plain": [
       "latitude , longitude    145284\n",
       "dtype: int64"
      ]
     },
     "execution_count": 103,
     "metadata": {},
     "output_type": "execute_result"
    }
   ],
   "source": [
    "x.count()"
   ]
  },
  {
   "cell_type": "code",
   "execution_count": 104,
   "metadata": {},
   "outputs": [],
   "source": [
    "x.insert(0,\"ID\", x.index, True)"
   ]
  },
  {
   "cell_type": "code",
   "execution_count": 105,
   "metadata": {},
   "outputs": [
    {
     "data": {
      "text/html": [
       "<div>\n",
       "<style scoped>\n",
       "    .dataframe tbody tr th:only-of-type {\n",
       "        vertical-align: middle;\n",
       "    }\n",
       "\n",
       "    .dataframe tbody tr th {\n",
       "        vertical-align: top;\n",
       "    }\n",
       "\n",
       "    .dataframe thead th {\n",
       "        text-align: right;\n",
       "    }\n",
       "</style>\n",
       "<table border=\"1\" class=\"dataframe\">\n",
       "  <thead>\n",
       "    <tr style=\"text-align: right;\">\n",
       "      <th></th>\n",
       "      <th>ID</th>\n",
       "      <th>latitude , longitude</th>\n",
       "    </tr>\n",
       "  </thead>\n",
       "  <tbody>\n",
       "    <tr>\n",
       "      <th>0</th>\n",
       "      <td>0</td>\n",
       "      <td>(0.0, 0.0)</td>\n",
       "    </tr>\n",
       "    <tr>\n",
       "      <th>1</th>\n",
       "      <td>1</td>\n",
       "      <td>(30.1305, -77.9722)</td>\n",
       "    </tr>\n",
       "    <tr>\n",
       "      <th>2</th>\n",
       "      <td>2</td>\n",
       "      <td>(36.2764, -77.7435)</td>\n",
       "    </tr>\n",
       "    <tr>\n",
       "      <th>3</th>\n",
       "      <td>3</td>\n",
       "      <td>(39.9246, -72.9599)</td>\n",
       "    </tr>\n",
       "    <tr>\n",
       "      <th>4</th>\n",
       "      <td>4</td>\n",
       "      <td>(40.2026, -73.8913)</td>\n",
       "    </tr>\n",
       "  </tbody>\n",
       "</table>\n",
       "</div>"
      ],
      "text/plain": [
       "   ID latitude , longitude\n",
       "0   0           (0.0, 0.0)\n",
       "1   1  (30.1305, -77.9722)\n",
       "2   2  (36.2764, -77.7435)\n",
       "3   3  (39.9246, -72.9599)\n",
       "4   4  (40.2026, -73.8913)"
      ]
     },
     "execution_count": 105,
     "metadata": {},
     "output_type": "execute_result"
    }
   ],
   "source": [
    "x.head()"
   ]
  },
  {
   "cell_type": "code",
   "execution_count": 106,
   "metadata": {},
   "outputs": [],
   "source": [
    "x.to_csv(\"node.csv\",encoding='utf-8', index=False)"
   ]
  },
  {
   "cell_type": "code",
   "execution_count": 107,
   "metadata": {},
   "outputs": [],
   "source": [
    "nycdata = nyc_data[['pickup_latitude','pickup_longitude','dropoff_latitude','dropoff_longitude','trip_distance']]\n",
    "nycdata = np.round(nycdata, decimals=4)"
   ]
  },
  {
   "cell_type": "code",
   "execution_count": 108,
   "metadata": {},
   "outputs": [
    {
     "data": {
      "text/html": [
       "<div>\n",
       "<style scoped>\n",
       "    .dataframe tbody tr th:only-of-type {\n",
       "        vertical-align: middle;\n",
       "    }\n",
       "\n",
       "    .dataframe tbody tr th {\n",
       "        vertical-align: top;\n",
       "    }\n",
       "\n",
       "    .dataframe thead th {\n",
       "        text-align: right;\n",
       "    }\n",
       "</style>\n",
       "<table border=\"1\" class=\"dataframe\">\n",
       "  <thead>\n",
       "    <tr style=\"text-align: right;\">\n",
       "      <th></th>\n",
       "      <th>pickup_latitude</th>\n",
       "      <th>pickup_longitude</th>\n",
       "      <th>dropoff_latitude</th>\n",
       "      <th>dropoff_longitude</th>\n",
       "      <th>trip_distance</th>\n",
       "    </tr>\n",
       "  </thead>\n",
       "  <tbody>\n",
       "    <tr>\n",
       "      <th>0</th>\n",
       "      <td>40.7614</td>\n",
       "      <td>-73.9641</td>\n",
       "      <td>40.7831</td>\n",
       "      <td>-73.9780</td>\n",
       "      <td>2.40</td>\n",
       "    </tr>\n",
       "    <tr>\n",
       "      <th>1</th>\n",
       "      <td>40.7604</td>\n",
       "      <td>-73.9615</td>\n",
       "      <td>40.7097</td>\n",
       "      <td>-73.9436</td>\n",
       "      <td>5.00</td>\n",
       "    </tr>\n",
       "    <tr>\n",
       "      <th>2</th>\n",
       "      <td>40.7617</td>\n",
       "      <td>-73.9869</td>\n",
       "      <td>40.7743</td>\n",
       "      <td>-73.8732</td>\n",
       "      <td>10.25</td>\n",
       "    </tr>\n",
       "    <tr>\n",
       "      <th>3</th>\n",
       "      <td>40.7581</td>\n",
       "      <td>-73.9658</td>\n",
       "      <td>40.7020</td>\n",
       "      <td>-74.0104</td>\n",
       "      <td>5.46</td>\n",
       "    </tr>\n",
       "    <tr>\n",
       "      <th>4</th>\n",
       "      <td>40.8219</td>\n",
       "      <td>-73.9550</td>\n",
       "      <td>40.8084</td>\n",
       "      <td>-73.9509</td>\n",
       "      <td>1.50</td>\n",
       "    </tr>\n",
       "  </tbody>\n",
       "</table>\n",
       "</div>"
      ],
      "text/plain": [
       "   pickup_latitude  pickup_longitude  dropoff_latitude  dropoff_longitude  \\\n",
       "0          40.7614          -73.9641           40.7831           -73.9780   \n",
       "1          40.7604          -73.9615           40.7097           -73.9436   \n",
       "2          40.7617          -73.9869           40.7743           -73.8732   \n",
       "3          40.7581          -73.9658           40.7020           -74.0104   \n",
       "4          40.8219          -73.9550           40.8084           -73.9509   \n",
       "\n",
       "   trip_distance  \n",
       "0           2.40  \n",
       "1           5.00  \n",
       "2          10.25  \n",
       "3           5.46  \n",
       "4           1.50  "
      ]
     },
     "execution_count": 108,
     "metadata": {},
     "output_type": "execute_result"
    }
   ],
   "source": [
    "nycdata.head()"
   ]
  },
  {
   "cell_type": "code",
   "execution_count": 109,
   "metadata": {},
   "outputs": [],
   "source": [
    "node1 = nycdata[['pickup_latitude','pickup_longitude']].apply(tuple, axis=1)\n",
    "node2 = nycdata[['dropoff_latitude','dropoff_longitude']].apply(tuple, axis=1)"
   ]
  },
  {
   "cell_type": "code",
   "execution_count": 110,
   "metadata": {},
   "outputs": [],
   "source": [
    "edges = pd.DataFrame(node1, columns=['node1'])\n",
    "edges.insert(1,\"node2\",node2, True)\n",
    "edges.insert(2,\"distance\", nycdata[\"trip_distance\"], True)"
   ]
  },
  {
   "cell_type": "code",
   "execution_count": 111,
   "metadata": {},
   "outputs": [
    {
     "data": {
      "text/html": [
       "<div>\n",
       "<style scoped>\n",
       "    .dataframe tbody tr th:only-of-type {\n",
       "        vertical-align: middle;\n",
       "    }\n",
       "\n",
       "    .dataframe tbody tr th {\n",
       "        vertical-align: top;\n",
       "    }\n",
       "\n",
       "    .dataframe thead th {\n",
       "        text-align: right;\n",
       "    }\n",
       "</style>\n",
       "<table border=\"1\" class=\"dataframe\">\n",
       "  <thead>\n",
       "    <tr style=\"text-align: right;\">\n",
       "      <th></th>\n",
       "      <th>node1</th>\n",
       "      <th>node2</th>\n",
       "      <th>distance</th>\n",
       "    </tr>\n",
       "  </thead>\n",
       "  <tbody>\n",
       "    <tr>\n",
       "      <th>0</th>\n",
       "      <td>(40.7614, -73.9641)</td>\n",
       "      <td>(40.7831, -73.978)</td>\n",
       "      <td>2.40</td>\n",
       "    </tr>\n",
       "    <tr>\n",
       "      <th>1</th>\n",
       "      <td>(40.7604, -73.9615)</td>\n",
       "      <td>(40.7097, -73.9436)</td>\n",
       "      <td>5.00</td>\n",
       "    </tr>\n",
       "    <tr>\n",
       "      <th>2</th>\n",
       "      <td>(40.7617, -73.9869)</td>\n",
       "      <td>(40.7743, -73.8732)</td>\n",
       "      <td>10.25</td>\n",
       "    </tr>\n",
       "    <tr>\n",
       "      <th>3</th>\n",
       "      <td>(40.7581, -73.9658)</td>\n",
       "      <td>(40.702, -74.0104)</td>\n",
       "      <td>5.46</td>\n",
       "    </tr>\n",
       "    <tr>\n",
       "      <th>4</th>\n",
       "      <td>(40.8219, -73.955)</td>\n",
       "      <td>(40.8084, -73.9509)</td>\n",
       "      <td>1.50</td>\n",
       "    </tr>\n",
       "  </tbody>\n",
       "</table>\n",
       "</div>"
      ],
      "text/plain": [
       "                 node1                node2  distance\n",
       "0  (40.7614, -73.9641)   (40.7831, -73.978)      2.40\n",
       "1  (40.7604, -73.9615)  (40.7097, -73.9436)      5.00\n",
       "2  (40.7617, -73.9869)  (40.7743, -73.8732)     10.25\n",
       "3  (40.7581, -73.9658)   (40.702, -74.0104)      5.46\n",
       "4   (40.8219, -73.955)  (40.8084, -73.9509)      1.50"
      ]
     },
     "execution_count": 111,
     "metadata": {},
     "output_type": "execute_result"
    }
   ],
   "source": [
    "edges.head()"
   ]
  },
  {
   "cell_type": "code",
   "execution_count": 112,
   "metadata": {},
   "outputs": [],
   "source": [
    "xdict = x.iloc[:,1].to_dict()"
   ]
  },
  {
   "cell_type": "code",
   "execution_count": 113,
   "metadata": {},
   "outputs": [],
   "source": [
    "#xdict"
   ]
  },
  {
   "cell_type": "code",
   "execution_count": 114,
   "metadata": {},
   "outputs": [
    {
     "data": {
      "text/plain": [
       "'print(len(edges.values))\\nfor i in edges.iterrows():\\n    lat = i[0]\\n    long = i[1]\\n    for k,v in xdict.items():\\n       if(lat == v):\\n           edges.at[k,\"node1\"]= k   \\n           print(edges.at[k,\"node1\"])  '"
      ]
     },
     "execution_count": 114,
     "metadata": {},
     "output_type": "execute_result"
    }
   ],
   "source": [
    "'''print(len(edges.values))\n",
    "for i in edges.iterrows():\n",
    "    lat = i[0]\n",
    "    long = i[1]\n",
    "    for k,v in xdict.items():\n",
    "       if(lat == v):\n",
    "           edges.at[k,\"node1\"]= k   \n",
    "           print(edges.at[k,\"node1\"])  '''          "
   ]
  },
  {
   "cell_type": "code",
   "execution_count": 115,
   "metadata": {},
   "outputs": [
    {
     "ename": "KeyError",
     "evalue": "False",
     "output_type": "error",
     "traceback": [
      "\u001b[1;31m---------------------------------------------------------------------------\u001b[0m",
      "\u001b[1;31mKeyError\u001b[0m                                  Traceback (most recent call last)",
      "File \u001b[1;32m~\\AppData\\Local\\Programs\\Python\\Python310\\lib\\site-packages\\pandas\\core\\indexes\\base.py:3621\u001b[0m, in \u001b[0;36mIndex.get_loc\u001b[1;34m(self, key, method, tolerance)\u001b[0m\n\u001b[0;32m   <a href='file:///c%3A/Users/Jyotrimay%20Mohanty/AppData/Local/Programs/Python/Python310/lib/site-packages/pandas/core/indexes/base.py?line=3619'>3620</a>\u001b[0m \u001b[39mtry\u001b[39;00m:\n\u001b[1;32m-> <a href='file:///c%3A/Users/Jyotrimay%20Mohanty/AppData/Local/Programs/Python/Python310/lib/site-packages/pandas/core/indexes/base.py?line=3620'>3621</a>\u001b[0m     \u001b[39mreturn\u001b[39;00m \u001b[39mself\u001b[39;49m\u001b[39m.\u001b[39;49m_engine\u001b[39m.\u001b[39;49mget_loc(casted_key)\n\u001b[0;32m   <a href='file:///c%3A/Users/Jyotrimay%20Mohanty/AppData/Local/Programs/Python/Python310/lib/site-packages/pandas/core/indexes/base.py?line=3621'>3622</a>\u001b[0m \u001b[39mexcept\u001b[39;00m \u001b[39mKeyError\u001b[39;00m \u001b[39mas\u001b[39;00m err:\n",
      "File \u001b[1;32m~\\AppData\\Local\\Programs\\Python\\Python310\\lib\\site-packages\\pandas\\_libs\\index.pyx:136\u001b[0m, in \u001b[0;36mpandas._libs.index.IndexEngine.get_loc\u001b[1;34m()\u001b[0m\n",
      "File \u001b[1;32m~\\AppData\\Local\\Programs\\Python\\Python310\\lib\\site-packages\\pandas\\_libs\\index.pyx:163\u001b[0m, in \u001b[0;36mpandas._libs.index.IndexEngine.get_loc\u001b[1;34m()\u001b[0m\n",
      "File \u001b[1;32mpandas\\_libs\\hashtable_class_helper.pxi:5198\u001b[0m, in \u001b[0;36mpandas._libs.hashtable.PyObjectHashTable.get_item\u001b[1;34m()\u001b[0m\n",
      "File \u001b[1;32mpandas\\_libs\\hashtable_class_helper.pxi:5206\u001b[0m, in \u001b[0;36mpandas._libs.hashtable.PyObjectHashTable.get_item\u001b[1;34m()\u001b[0m\n",
      "\u001b[1;31mKeyError\u001b[0m: False",
      "\nThe above exception was the direct cause of the following exception:\n",
      "\u001b[1;31mKeyError\u001b[0m                                  Traceback (most recent call last)",
      "\u001b[1;32mc:\\Users\\Jyotrimay Mohanty\\Documents\\Artificial Intelligence\\Assignment 2-2\\nyc_taxi_trips\\jmohanty_nyc.ipynb Cell 37'\u001b[0m in \u001b[0;36m<module>\u001b[1;34m\u001b[0m\n\u001b[0;32m      <a href='vscode-notebook-cell:/c%3A/Users/Jyotrimay%20Mohanty/Documents/Artificial%20Intelligence/Assignment%202-2/nyc_taxi_trips/jmohanty_nyc.ipynb#ch0000036?line=1'>2</a>\u001b[0m newrow \u001b[39m=\u001b[39m \u001b[39mNone\u001b[39;00m\n\u001b[0;32m      <a href='vscode-notebook-cell:/c%3A/Users/Jyotrimay%20Mohanty/Documents/Artificial%20Intelligence/Assignment%202-2/nyc_taxi_trips/jmohanty_nyc.ipynb#ch0000036?line=2'>3</a>\u001b[0m \u001b[39mfor\u001b[39;00m j,row \u001b[39min\u001b[39;00m newdf\u001b[39m.\u001b[39miterrows():\n\u001b[1;32m----> <a href='vscode-notebook-cell:/c%3A/Users/Jyotrimay%20Mohanty/Documents/Artificial%20Intelligence/Assignment%202-2/nyc_taxi_trips/jmohanty_nyc.ipynb#ch0000036?line=3'>4</a>\u001b[0m     temp \u001b[39m=\u001b[39m nyc_data[[\u001b[39m'\u001b[39;49m\u001b[39mpickup_latitude\u001b[39;49m\u001b[39m'\u001b[39;49m]\u001b[39m==\u001b[39;49mrow[\u001b[39m1\u001b[39;49m][\u001b[39m0\u001b[39;49m]]\n\u001b[0;32m      <a href='vscode-notebook-cell:/c%3A/Users/Jyotrimay%20Mohanty/Documents/Artificial%20Intelligence/Assignment%202-2/nyc_taxi_trips/jmohanty_nyc.ipynb#ch0000036?line=4'>5</a>\u001b[0m     \u001b[39mfor\u001b[39;00m k, ele \u001b[39min\u001b[39;00m temp[[\u001b[39m'\u001b[39m\u001b[39mpickup_longitude\u001b[39m\u001b[39m'\u001b[39m]\u001b[39m==\u001b[39mrow[\u001b[39m1\u001b[39m][\u001b[39m1\u001b[39m]]\u001b[39m.\u001b[39miterrows():\n\u001b[0;32m      <a href='vscode-notebook-cell:/c%3A/Users/Jyotrimay%20Mohanty/Documents/Artificial%20Intelligence/Assignment%202-2/nyc_taxi_trips/jmohanty_nyc.ipynb#ch0000036?line=5'>6</a>\u001b[0m         new_row \u001b[39m=\u001b[39m {k:\u001b[39m\"\u001b[39m\u001b[39mnode1\u001b[39m\u001b[39m\"\u001b[39m, newdf[[\u001b[39m'\u001b[39m\u001b[39mlatitude , longitude\u001b[39m\u001b[39m'\u001b[39m]\u001b[39m==\u001b[39m(ele\u001b[39m.\u001b[39mget(\u001b[39m\"\u001b[39m\u001b[39mdropoff_latitude\u001b[39m\u001b[39m\"\u001b[39m),ele\u001b[39m.\u001b[39mget(\u001b[39m\"\u001b[39m\u001b[39mdropoff_longitude\u001b[39m\u001b[39m\"\u001b[39m))]:\u001b[39m\"\u001b[39m\u001b[39mnode2\u001b[39m\u001b[39m\"\u001b[39m, \u001b[39m\"\u001b[39m\u001b[39mdistance\u001b[39m\u001b[39m\"\u001b[39m:ele\u001b[39m.\u001b[39mget(\u001b[39m\"\u001b[39m\u001b[39mtrip_distance\u001b[39m\u001b[39m\"\u001b[39m)}\n",
      "File \u001b[1;32m~\\AppData\\Local\\Programs\\Python\\Python310\\lib\\site-packages\\pandas\\core\\frame.py:3506\u001b[0m, in \u001b[0;36mDataFrame.__getitem__\u001b[1;34m(self, key)\u001b[0m\n\u001b[0;32m   <a href='file:///c%3A/Users/Jyotrimay%20Mohanty/AppData/Local/Programs/Python/Python310/lib/site-packages/pandas/core/frame.py?line=3503'>3504</a>\u001b[0m \u001b[39mif\u001b[39;00m \u001b[39mself\u001b[39m\u001b[39m.\u001b[39mcolumns\u001b[39m.\u001b[39mnlevels \u001b[39m>\u001b[39m \u001b[39m1\u001b[39m:\n\u001b[0;32m   <a href='file:///c%3A/Users/Jyotrimay%20Mohanty/AppData/Local/Programs/Python/Python310/lib/site-packages/pandas/core/frame.py?line=3504'>3505</a>\u001b[0m     \u001b[39mreturn\u001b[39;00m \u001b[39mself\u001b[39m\u001b[39m.\u001b[39m_getitem_multilevel(key)\n\u001b[1;32m-> <a href='file:///c%3A/Users/Jyotrimay%20Mohanty/AppData/Local/Programs/Python/Python310/lib/site-packages/pandas/core/frame.py?line=3505'>3506</a>\u001b[0m indexer \u001b[39m=\u001b[39m \u001b[39mself\u001b[39;49m\u001b[39m.\u001b[39;49mcolumns\u001b[39m.\u001b[39;49mget_loc(key)\n\u001b[0;32m   <a href='file:///c%3A/Users/Jyotrimay%20Mohanty/AppData/Local/Programs/Python/Python310/lib/site-packages/pandas/core/frame.py?line=3506'>3507</a>\u001b[0m \u001b[39mif\u001b[39;00m is_integer(indexer):\n\u001b[0;32m   <a href='file:///c%3A/Users/Jyotrimay%20Mohanty/AppData/Local/Programs/Python/Python310/lib/site-packages/pandas/core/frame.py?line=3507'>3508</a>\u001b[0m     indexer \u001b[39m=\u001b[39m [indexer]\n",
      "File \u001b[1;32m~\\AppData\\Local\\Programs\\Python\\Python310\\lib\\site-packages\\pandas\\core\\indexes\\base.py:3623\u001b[0m, in \u001b[0;36mIndex.get_loc\u001b[1;34m(self, key, method, tolerance)\u001b[0m\n\u001b[0;32m   <a href='file:///c%3A/Users/Jyotrimay%20Mohanty/AppData/Local/Programs/Python/Python310/lib/site-packages/pandas/core/indexes/base.py?line=3620'>3621</a>\u001b[0m     \u001b[39mreturn\u001b[39;00m \u001b[39mself\u001b[39m\u001b[39m.\u001b[39m_engine\u001b[39m.\u001b[39mget_loc(casted_key)\n\u001b[0;32m   <a href='file:///c%3A/Users/Jyotrimay%20Mohanty/AppData/Local/Programs/Python/Python310/lib/site-packages/pandas/core/indexes/base.py?line=3621'>3622</a>\u001b[0m \u001b[39mexcept\u001b[39;00m \u001b[39mKeyError\u001b[39;00m \u001b[39mas\u001b[39;00m err:\n\u001b[1;32m-> <a href='file:///c%3A/Users/Jyotrimay%20Mohanty/AppData/Local/Programs/Python/Python310/lib/site-packages/pandas/core/indexes/base.py?line=3622'>3623</a>\u001b[0m     \u001b[39mraise\u001b[39;00m \u001b[39mKeyError\u001b[39;00m(key) \u001b[39mfrom\u001b[39;00m \u001b[39merr\u001b[39;00m\n\u001b[0;32m   <a href='file:///c%3A/Users/Jyotrimay%20Mohanty/AppData/Local/Programs/Python/Python310/lib/site-packages/pandas/core/indexes/base.py?line=3623'>3624</a>\u001b[0m \u001b[39mexcept\u001b[39;00m \u001b[39mTypeError\u001b[39;00m:\n\u001b[0;32m   <a href='file:///c%3A/Users/Jyotrimay%20Mohanty/AppData/Local/Programs/Python/Python310/lib/site-packages/pandas/core/indexes/base.py?line=3624'>3625</a>\u001b[0m     \u001b[39m# If we have a listlike key, _check_indexing_error will raise\u001b[39;00m\n\u001b[0;32m   <a href='file:///c%3A/Users/Jyotrimay%20Mohanty/AppData/Local/Programs/Python/Python310/lib/site-packages/pandas/core/indexes/base.py?line=3625'>3626</a>\u001b[0m     \u001b[39m#  InvalidIndexError. Otherwise we fall through and re-raise\u001b[39;00m\n\u001b[0;32m   <a href='file:///c%3A/Users/Jyotrimay%20Mohanty/AppData/Local/Programs/Python/Python310/lib/site-packages/pandas/core/indexes/base.py?line=3626'>3627</a>\u001b[0m     \u001b[39m#  the TypeError.\u001b[39;00m\n\u001b[0;32m   <a href='file:///c%3A/Users/Jyotrimay%20Mohanty/AppData/Local/Programs/Python/Python310/lib/site-packages/pandas/core/indexes/base.py?line=3627'>3628</a>\u001b[0m     \u001b[39mself\u001b[39m\u001b[39m.\u001b[39m_check_indexing_error(key)\n",
      "\u001b[1;31mKeyError\u001b[0m: False"
     ]
    }
   ],
   "source": [
    "newdf = pd.read_csv(\"node.csv\")\n",
    "newrow = None\n",
    "for j,row in newdf.iterrows():\n",
    "    temp = nyc_data[['pickup_latitude']==row[1][0]]\n",
    "    for k, ele in temp[['pickup_longitude']==row[1][1]].iterrows():\n",
    "        new_row = {k:\"node1\", newdf[['latitude , longitude']==(ele.get(\"dropoff_latitude\"),ele.get(\"dropoff_longitude\"))]:\"node2\", \"distance\":ele.get(\"trip_distance\")}\n",
    "        edges = edges.append(new_row, ignore_index=True)\n"
   ]
  }
 ],
 "metadata": {
  "interpreter": {
   "hash": "dcb9f67ecd29cd34d9ea8502bb81caabe278bd700c016110a0797d8966092eea"
  },
  "kernelspec": {
   "display_name": "Python 3.10.2 64-bit",
   "language": "python",
   "name": "python3"
  },
  "language_info": {
   "codemirror_mode": {
    "name": "ipython",
    "version": 3
   },
   "file_extension": ".py",
   "mimetype": "text/x-python",
   "name": "python",
   "nbconvert_exporter": "python",
   "pygments_lexer": "ipython3",
   "version": "3.10.2"
  },
  "orig_nbformat": 4
 },
 "nbformat": 4,
 "nbformat_minor": 2
}
