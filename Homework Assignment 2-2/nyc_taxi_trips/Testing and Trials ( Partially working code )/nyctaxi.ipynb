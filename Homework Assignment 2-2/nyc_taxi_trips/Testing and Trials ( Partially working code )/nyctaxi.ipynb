{
 "cells": [
  {
   "cell_type": "code",
   "execution_count": 10,
   "id": "15c540e1",
   "metadata": {},
   "outputs": [],
   "source": [
    "import pandas as pd\n",
    "import csv\n",
    "from geopy.distance import great_circle"
   ]
  },
  {
   "cell_type": "code",
   "execution_count": 11,
   "id": "ec050e0f",
   "metadata": {},
   "outputs": [],
   "source": [
    "with open('nyc_taxi_data.csv', 'rt') as f:\n",
    "    reader = csv.reader(f)\n",
    "    data1 = list(reader)"
   ]
  },
  {
   "cell_type": "code",
   "execution_count": 12,
   "id": "54712461",
   "metadata": {},
   "outputs": [],
   "source": [
    "data = pd.read_csv('nyc_taxi_data.csv')\n",
    "data = data[['pickup_longitude','pickup_latitude','dropoff_longitude','dropoff_latitude','trip_distance']]"
   ]
  },
  {
   "cell_type": "code",
   "execution_count": 13,
   "id": "75743b89",
   "metadata": {},
   "outputs": [],
   "source": [
    "df1 = data[['pickup_latitude', 'pickup_longitude']]\n",
    "df1 = df1.rename({'pickup_latitude': 'lat', 'pickup_longitude': 'long'}, axis =1)\n",
    "df2 = data[['dropoff_latitude', 'dropoff_longitude']]\n",
    "df2 = df2.rename({'dropoff_latitude': 'lat', 'dropoff_longitude': 'long'}, axis = 1)"
   ]
  },
  {
   "cell_type": "code",
   "execution_count": 14,
   "id": "f82d311b",
   "metadata": {},
   "outputs": [],
   "source": [
    "df3 = pd.concat([df1,df2], ignore_index = True)\n",
    "#df4 = pd.concat([df1,df2], ignore_index = True)\n",
    "df3 = df3.drop_duplicates(subset = ['lat','long'])"
   ]
  },
  {
   "cell_type": "code",
   "execution_count": 15,
   "id": "9f3c7185",
   "metadata": {},
   "outputs": [],
   "source": [
    "df3.reset_index(inplace = True)"
   ]
  },
  {
   "cell_type": "code",
   "execution_count": 16,
   "id": "0f876ed6",
   "metadata": {},
   "outputs": [],
   "source": [
    "df3 = df3.rename(columns = {'index':'nodeid'})\n",
    "df3.to_csv('nodes.csv', index = False)"
   ]
  },
  {
   "cell_type": "code",
   "execution_count": 17,
   "id": "ced26e75",
   "metadata": {},
   "outputs": [],
   "source": [
    "with open('nodes.csv', 'rt') as f:\n",
    "    reader = csv.reader(f)\n",
    "    data3 = list(reader)"
   ]
  },
  {
   "cell_type": "code",
   "execution_count": 18,
   "id": "7a865513",
   "metadata": {},
   "outputs": [],
   "source": [
    "#new\n",
    "\n",
    "taxi_data = pd.read_csv(\"nyc_taxi_data.csv\")            # create taxi_data dataframe\n",
    "node_data = pd.read_csv(\"nodes.csv\")                    # create node_data dataframe\n",
    "\n",
    "taxi_data[\"start_node\"] = [-1] * len(taxi_data)         # create a new column start_node and initialize columns with -1\n",
    "taxi_data[\"end_node\"] = [-1] * len(taxi_data)           # create a new column end_node  and initialize columns with -1\n",
    "\n",
    "for node in node_data.values:                           # read the nodes in node.csv row-wise\n",
    "\n",
    "    start_node = node[0]                                # node_id\n",
    "    pickup_lat = node[1]                                # lat\n",
    "    pickup_long = node[2]                               # long\n",
    "\n",
    "    if not taxi_data.loc[ (taxi_data[\"pickup_latitude\"] == pickup_lat ) & (taxi_data[\"pickup_longitude\"] == pickup_long) ].empty:                     # if the node exists in the taxi_data\n",
    "        index_taxi = taxi_data.loc[ (taxi_data['pickup_latitude'] == pickup_lat) & (taxi_data['pickup_longitude'] == pickup_long) ].index.values[0]   # get the node index\n",
    "        taxi_data.at[index_taxi,\"start_node\"] = start_node                                                                  # store the node_id of the starting node in taxi_data\n",
    "        end_node_lat, end_node_long = taxi_data.loc[index_taxi][\"dropoff_latitude\"], taxi_data.loc[index_taxi][\"dropoff_longitude\"]   # get the dropoff latitude and longitude from taxi_data\n",
    "\n",
    "    index_node = node_data.loc[ (node_data[\"lat\"]==end_node_lat) & (node_data[\"long\"]==end_node_long) ].index.values[0]     # search for the dropoff node in node_data\n",
    "    taxi_data.at[index_taxi, \"end_node\"] = node_data.at[index_node, \"nodeid\"]                                              # store the node_id of the end node in taxi_data\n",
    "\n",
    "edges = []                                          # list of edges\n",
    "for trip in taxi_data.values:                       # loop over taxi_data\n",
    "    edge = [int(trip[5]), int(trip[6])]             # get the start node and end node\n",
    "    edges.append(edge)                              # append edge to edges list\n",
    "    edge = [int(trip[6]), int(trip[5])]             # reverse the start node and end node\n",
    "    edges.append(edge)                              # append to edges list\n",
    "\n",
    "edges_df = pd.DataFrame(edges, columns= [\"node_id1\", \"node_id2\"])   # convert edgest into a dataframe\n",
    "\n",
    "edges_df.to_csv(\"edges.csv\", index=False)                           # print edges_df dataframe as csv file"
   ]
  },
  {
   "cell_type": "code",
   "execution_count": null,
   "id": "3ba99ed9",
   "metadata": {},
   "outputs": [],
   "source": []
  }
 ],
 "metadata": {
  "kernelspec": {
   "display_name": "Python 3 (ipykernel)",
   "language": "python",
   "name": "python3"
  },
  "language_info": {
   "codemirror_mode": {
    "name": "ipython",
    "version": 3
   },
   "file_extension": ".py",
   "mimetype": "text/x-python",
   "name": "python",
   "nbconvert_exporter": "python",
   "pygments_lexer": "ipython3",
   "version": "3.10.2"
  }
 },
 "nbformat": 4,
 "nbformat_minor": 5
}
