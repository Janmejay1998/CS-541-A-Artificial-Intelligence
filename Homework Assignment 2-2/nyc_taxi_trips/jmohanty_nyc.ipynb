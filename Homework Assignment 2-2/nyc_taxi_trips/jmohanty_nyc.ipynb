{
 "cells": [
  {
   "cell_type": "code",
   "execution_count": null,
   "metadata": {},
   "outputs": [],
   "source": [
    "import numpy as np\n",
    "import pandas as pd\n",
    "from collections import defaultdict\n",
    "from queue import PriorityQueue\n",
    "import timeit"
   ]
  },
  {
   "cell_type": "code",
   "execution_count": null,
   "metadata": {},
   "outputs": [],
   "source": [
    "nyc_data = pd.read_csv(\"nyc_taxi_data.csv\", index_col=0)"
   ]
  },
  {
   "cell_type": "code",
   "execution_count": null,
   "metadata": {},
   "outputs": [],
   "source": [
    "nyc_data.head()"
   ]
  },
  {
   "cell_type": "code",
   "execution_count": null,
   "metadata": {},
   "outputs": [],
   "source": [
    "nyc_data = nyc_data.drop(['tpep_pickup_datetime', 'tpep_dropoff_datetime', 'pickup_hrs', 'dropoff_hrs', 'day_week', 'tpep_pickup_timestamp','tpep_dropoff_timestamp', 'duration', 'speed'], axis=1)"
   ]
  },
  {
   "cell_type": "code",
   "execution_count": null,
   "metadata": {},
   "outputs": [],
   "source": [
    "nyc_data.head()"
   ]
  },
  {
   "cell_type": "code",
   "execution_count": null,
   "metadata": {},
   "outputs": [],
   "source": [
    "nyc_data = np.round(nyc_data, decimals=4)"
   ]
  },
  {
   "cell_type": "code",
   "execution_count": null,
   "metadata": {},
   "outputs": [],
   "source": [
    "nyc_data.head()"
   ]
  },
  {
   "cell_type": "code",
   "execution_count": null,
   "metadata": {},
   "outputs": [],
   "source": [
    "adm = defaultdict(lambda:[])\n",
    "nd = defaultdict(lambda:0)\n",
    "position = 0"
   ]
  },
  {
   "cell_type": "code",
   "execution_count": null,
   "metadata": {},
   "outputs": [],
   "source": [
    "for index, row in nyc_data.iterrows():\n",
    "    if (row['pickup_longitude'], row['pickup_latitude']) in nd.keys():\n",
    "      pass\n",
    "    else:\n",
    "      nd[(row['pickup_longitude'], row['pickup_latitude'])] = position\n",
    "      position += 1\n",
    "    \n",
    "    if (row['dropoff_longitude'], row['dropoff_latitude']) in nd.keys():\n",
    "      pass\n",
    "    else:\n",
    "      nd[(row['dropoff_longitude'],row['dropoff_latitude'])] = position\n",
    "      position += 1\n",
    "    \n",
    "    adm[nd.get((row['pickup_longitude'], row['pickup_latitude']))].append((nd.get((row['dropoff_longitude'], row['dropoff_latitude'])), row['trip_distance']))"
   ]
  },
  {
   "cell_type": "code",
   "execution_count": null,
   "metadata": {},
   "outputs": [],
   "source": [
    "file = open('nodes.csv', 'w')\n",
    "file.write(f'nodeid, lat, long\\n')\n",
    "for k, index in nd.items():\n",
    "    file.write(f'{index},{k[1]},{k[0]}\\n')\n",
    "file.close()\n",
    "  "
   ]
  },
  {
   "cell_type": "code",
   "execution_count": null,
   "metadata": {},
   "outputs": [],
   "source": [
    "file = open('edges.csv', 'w')\n",
    "file.write(f'nodeid1, nodeid2, distance\\n')\n",
    "for startI, destL in adm.items():\n",
    "    for endI, dist in destL:\n",
    "      file.write(f'{startI},{endI},{dist}\\n')\n",
    "      file.write(f'{endI},{startI},{dist}\\n')\n",
    "file.close()"
   ]
  },
  {
   "cell_type": "code",
   "execution_count": null,
   "metadata": {},
   "outputs": [],
   "source": [
    "edges = pd.read_csv('edges.csv')"
   ]
  },
  {
   "cell_type": "code",
   "execution_count": null,
   "metadata": {},
   "outputs": [],
   "source": [
    "edges.head()"
   ]
  },
  {
   "cell_type": "code",
   "execution_count": null,
   "metadata": {},
   "outputs": [],
   "source": [
    "adm"
   ]
  },
  {
   "cell_type": "code",
   "execution_count": null,
   "metadata": {},
   "outputs": [],
   "source": [
    "\n",
    "graph = adm\n",
    "def ucs(start, goal):\n",
    "\tvisited = []\n",
    "\tqueue = PriorityQueue()\n",
    "\tqueue.put((0, start))\n",
    "\n",
    "\twhile not queue.empty():\n",
    "\t\titem = queue.get()\n",
    "\t\tstart = item[1]\n",
    "\n",
    "\t\tif start == goal:\n",
    "\t\t\tprint(start, end = \" \")\n",
    "\t\t\tqueue.queue.clear()\n",
    "\t\telse:\n",
    "\t\t\tif start in visited:\n",
    "\t\t\t\tcontinue\n",
    "\n",
    "\t\t\tprint(start, end = \" \")\n",
    "\t\t\tvisited.append(start)\n",
    "\n",
    "\t\t\tfor neighbour in graph[start]:\n",
    "\t\t\t\tqueue.put((neighbour[0], neighbour[1]))\t\n",
    "\t\t\n",
    "\t"
   ]
  },
  {
   "cell_type": "code",
   "execution_count": null,
   "metadata": {},
   "outputs": [],
   "source": [
    "s = int(input(\"Start Node\"))\n",
    "g = int(input(\"End Node\"))"
   ]
  },
  {
   "cell_type": "code",
   "execution_count": null,
   "metadata": {},
   "outputs": [],
   "source": [
    "stt = timeit.default_timer()\n",
    "ucs(s,g)\n",
    "stp = timeit.default_timer()\n",
    "print(\"\\n\")\n",
    "print('Time: ', stp - stt) "
   ]
  },
  {
   "cell_type": "code",
   "execution_count": null,
   "metadata": {},
   "outputs": [],
   "source": [
    "def heuristic(a: GridLocation, b: GridLocation) -> float:\n",
    "    (x1, y1) = a\n",
    "    (x2, y2) = b\n",
    "    return abs(x1 - x2) + abs(y1 - y2)\n",
    "\n",
    "def a_star_search(graph: WeightedGraph, start: Location, goal: Location):\n",
    "    frontier = PriorityQueue()\n",
    "    frontier.put(start, 0)\n",
    "    came_from: Dict[Location, Optional[Location]] = {}\n",
    "    cost_so_far: Dict[Location, float] = {}\n",
    "    came_from[start] = None\n",
    "    cost_so_far[start] = 0\n",
    "    \n",
    "    while not frontier.empty():\n",
    "        current: Location = frontier.get()\n",
    "        \n",
    "        if current == goal:\n",
    "            break\n",
    "        \n",
    "        for next in graph.neighbors(current):\n",
    "            new_cost = cost_so_far[current] + graph.cost(current, next)\n",
    "            if next not in cost_so_far or new_cost < cost_so_far[next]:\n",
    "                cost_so_far[next] = new_cost\n",
    "                priority = new_cost + heuristic(next, goal)\n",
    "                frontier.put(next, priority)\n",
    "                came_from[next] = current\n",
    "    \n",
    "    return came_from, cost_so_far"
   ]
  },
  {
   "cell_type": "code",
   "execution_count": null,
   "metadata": {},
   "outputs": [],
   "source": [
    "a_star_search()"
   ]
  }
 ],
 "metadata": {
  "interpreter": {
   "hash": "dcb9f67ecd29cd34d9ea8502bb81caabe278bd700c016110a0797d8966092eea"
  },
  "kernelspec": {
   "display_name": "Python 3.10.2 64-bit",
   "language": "python",
   "name": "python3"
  },
  "language_info": {
   "codemirror_mode": {
    "name": "ipython",
    "version": 3
   },
   "file_extension": ".py",
   "mimetype": "text/x-python",
   "name": "python",
   "nbconvert_exporter": "python",
   "pygments_lexer": "ipython3",
   "version": "3.10.2"
  },
  "orig_nbformat": 4
 },
 "nbformat": 4,
 "nbformat_minor": 2
}
